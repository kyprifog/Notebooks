{
 "cells": [
  {
   "cell_type": "code",
   "execution_count": null,
   "metadata": {},
   "outputs": [],
   "source": [
    "#  This is a rudimentary SIR model roughly fit against the current cases \n",
    "#  without further assumptions which would represent a \"worse case scenario\""
   ]
  },
  {
   "cell_type": "code",
   "execution_count": 1,
   "metadata": {},
   "outputs": [
    {
     "name": "stdout",
     "output_type": "stream",
     "text": [
      "Requirement already satisfied: bokeh in /usr/local/lib/python3.7/site-packages (2.0.0)\n",
      "Requirement already satisfied: Jinja2>=2.7 in /usr/local/lib/python3.7/site-packages (from bokeh) (2.11.1)\n",
      "Requirement already satisfied: typing-extensions>=3.7.4 in /usr/local/lib/python3.7/site-packages (from bokeh) (3.7.4.1)\n",
      "Requirement already satisfied: packaging>=16.8 in /usr/local/lib/python3.7/site-packages (from bokeh) (20.3)\n",
      "Requirement already satisfied: PyYAML>=3.10 in /usr/local/lib/python3.7/site-packages (from bokeh) (5.3.1)\n",
      "Requirement already satisfied: python-dateutil>=2.1 in /usr/local/lib/python3.7/site-packages (from bokeh) (2.8.1)\n",
      "Requirement already satisfied: pillow>=4.0 in /usr/local/lib/python3.7/site-packages (from bokeh) (7.0.0)\n",
      "Requirement already satisfied: tornado>=5 in /usr/local/lib/python3.7/site-packages (from bokeh) (6.0.4)\n",
      "Requirement already satisfied: numpy>=1.11.3 in /usr/local/lib/python3.7/site-packages (from bokeh) (1.18.2)\n",
      "Requirement already satisfied: MarkupSafe>=0.23 in /usr/local/lib/python3.7/site-packages (from Jinja2>=2.7->bokeh) (1.1.1)\n",
      "Requirement already satisfied: pyparsing>=2.0.2 in /usr/local/lib/python3.7/site-packages (from packaging>=16.8->bokeh) (2.4.6)\n",
      "Requirement already satisfied: six in /usr/local/lib/python3.7/site-packages (from packaging>=16.8->bokeh) (1.14.0)\n"
     ]
    }
   ],
   "source": [
    "!pip3 install bokeh\n",
    "import json\n",
    "import requests\n",
    "import pandas as pds\n",
    "import numpy as np\n",
    "import math\n",
    "import pandas as pd\n",
    "import numpy as np\n",
    "from scipy.integrate import odeint\n",
    "import matplotlib.pyplot as plt\n",
    "import matplotlib\n",
    "matplotlib.use('TkAgg')"
   ]
  },
  {
   "cell_type": "code",
   "execution_count": null,
   "metadata": {},
   "outputs": [],
   "source": [
    "#  Current corona data\n",
    "response = requests.get(\"https://covidtracking.com/api/us/daily\")\n",
    "data = response.json()\n",
    "df = pd.DataFrame(data=data)\n",
    "df['date']  = pd.to_datetime(df['date'], format='%Y%m%d')"
   ]
  },
  {
   "cell_type": "code",
   "execution_count": null,
   "metadata": {},
   "outputs": [],
   "source": [
    "df"
   ]
  },
  {
   "cell_type": "code",
   "execution_count": null,
   "metadata": {},
   "outputs": [],
   "source": [
    "df.plot(x ='date', y='positive', color='magenta')"
   ]
  },
  {
   "cell_type": "code",
   "execution_count": 9,
   "metadata": {},
   "outputs": [],
   "source": [
    "def plot(total_pop, starting_infected, xlim, ylim, beta, r0=2.2, g=1./8):\n",
    "    # Total population, N.  US population\n",
    "    N = total_pop\n",
    "    # Initial number of infected and recovered individuals, I0 and R0.\n",
    "    # R0 Assumed to be 2.2 for coronavirus\n",
    "    I0, R0 = starting_infected, r0\n",
    "    # Everyone else, S0, is susceptible to infection initially.\n",
    "    S0 = N - I0 - R0\n",
    "    # Contact rate, beta, and mean recovery rate, gamma, (in 1/days).\n",
    "    beta, gamma = beta, g\n",
    "    # A grid of time points (in days)\n",
    "#     t = np.linspace(0, 100000, 100000)\n",
    "    \n",
    "#     start = pd.Timestamp('2020-03-01')\n",
    "#     end = pd.Timestamp('2020-03-24')\n",
    "    \n",
    "#     t = np.linspace(start, end, 10000)\n",
    "#     print(t)\n",
    "# #     # The SIR model differential equations.\n",
    "#     def deriv(y, t, N, beta, gamma):\n",
    "#         S, I, R = y\n",
    "#         dSdt = -beta * S * I / N\n",
    "#         dIdt = beta * S * I / N - gamma * I\n",
    "#         dRdt = gamma * I\n",
    "#         return dSdt, dIdt, dRdt\n",
    "\n",
    "#     # Initial conditions vector\n",
    "#     y0 = S0, I0, R0\n",
    "#     # Integrate the SIR equations over the time grid, t.\n",
    "#     ret = odeint(deriv, y0, t, args=(N, beta, gamma))\n",
    "#     S, I, R = ret.T\n",
    "\n",
    "#     # Plot the data on three separate curves for S(t), I(t) and R(t)\n",
    "#     fig = plt.figure(facecolor='w')\n",
    "#     ax = fig.add_subplot(111, axisbelow=True)\n",
    "#     ax.plot(t, S, 'b', alpha=0.5, lw=2, label='Susceptible')\n",
    "#     ax.plot(t, I, 'magenta', alpha=0.5, lw=2, label='Infected')\n",
    "#     ax.plot(t, I * 0.10, 'r', alpha=0.5, lw=2, label='Hospitalized')\n",
    "#     ax.plot(t, R, 'g', alpha=0.5, lw=2, label='Recovered with immunity')    \n",
    "#     ax.axhline(y= N * 0.7, linestyle='--', label='Herd Immunity Point')\n",
    "#     ax.plot(t, I*0.034, \"black\", alpha=1, lw=2, label='Death Rate')\n",
    "#     ax.set_xlabel('Time /days')\n",
    "#     ax.set_ylabel('Number')\n",
    "#     ax.set_ylim(0,ylim)\n",
    "#     ax.set_xlim(0,xlim)\n",
    "#     ax.yaxis.set_tick_params(length=0)\n",
    "#     ax.xaxis.set_tick_params(length=0)\n",
    "#     ax.grid(b=True, which='major', c='w', lw=2, ls='-')\n",
    "#     legend = ax.legend()\n",
    "#     legend.get_frame().set_alpha(0.5)\n",
    "#     for spine in ('top', 'right', 'bottom', 'left'):\n",
    "#         ax.spines[spine].set_visible(False)\n"
   ]
  },
  {
   "cell_type": "code",
   "execution_count": 8,
   "metadata": {},
   "outputs": [
    {
     "ename": "TypeError",
     "evalue": "descriptor '__sub__' requires a 'datetime.datetime' object but received a 'int'",
     "output_type": "error",
     "traceback": [
      "\u001b[0;31m---------------------------------------------------------------------------\u001b[0m",
      "\u001b[0;31mTypeError\u001b[0m                                 Traceback (most recent call last)",
      "\u001b[0;32m<ipython-input-8-8e70e6c8a4d8>\u001b[0m in \u001b[0;36m<module>\u001b[0;34m\u001b[0m\n\u001b[1;32m      2\u001b[0m \u001b[0;31m#  on 1st day had starting infected of 118 and in 17 days had 20000\u001b[0m\u001b[0;34m\u001b[0m\u001b[0;34m\u001b[0m\u001b[0;34m\u001b[0m\u001b[0m\n\u001b[1;32m      3\u001b[0m \u001b[0;31m# fig, ax = plt.subplots()\u001b[0m\u001b[0;34m\u001b[0m\u001b[0;34m\u001b[0m\u001b[0;34m\u001b[0m\u001b[0m\n\u001b[0;32m----> 4\u001b[0;31m \u001b[0mplot\u001b[0m\u001b[0;34m(\u001b[0m\u001b[0;36m327200000\u001b[0m\u001b[0;34m,\u001b[0m \u001b[0mpd\u001b[0m\u001b[0;34m.\u001b[0m\u001b[0mTimestamp\u001b[0m\u001b[0;34m(\u001b[0m\u001b[0;34m'2020-03-24'\u001b[0m\u001b[0;34m)\u001b[0m\u001b[0;34m,\u001b[0m\u001b[0;36m17\u001b[0m\u001b[0;34m,\u001b[0m\u001b[0;36m20000\u001b[0m\u001b[0;34m,\u001b[0m \u001b[0;36m0.5\u001b[0m\u001b[0;34m)\u001b[0m\u001b[0;34m\u001b[0m\u001b[0;34m\u001b[0m\u001b[0m\n\u001b[0m\u001b[1;32m      5\u001b[0m \u001b[0;31m# ax.plot(327200000, pd.Timestamp('2020-03-24'),17,20000, 0.5)\u001b[0m\u001b[0;34m\u001b[0m\u001b[0;34m\u001b[0m\u001b[0;34m\u001b[0m\u001b[0m\n\u001b[1;32m      6\u001b[0m \u001b[0;31m# df.plot(x ='date', y='positive', color='magenta',ax=ax)\u001b[0m\u001b[0;34m\u001b[0m\u001b[0;34m\u001b[0m\u001b[0;34m\u001b[0m\u001b[0m\n",
      "\u001b[0;32m<ipython-input-7-c9ae7a1985ca>\u001b[0m in \u001b[0;36mplot\u001b[0;34m(total_pop, starting_infected, xlim, ylim, beta, r0, g)\u001b[0m\n\u001b[1;32m      6\u001b[0m     \u001b[0mI0\u001b[0m\u001b[0;34m,\u001b[0m \u001b[0mR0\u001b[0m \u001b[0;34m=\u001b[0m \u001b[0mstarting_infected\u001b[0m\u001b[0;34m,\u001b[0m \u001b[0mr0\u001b[0m\u001b[0;34m\u001b[0m\u001b[0;34m\u001b[0m\u001b[0m\n\u001b[1;32m      7\u001b[0m     \u001b[0;31m# Everyone else, S0, is susceptible to infection initially.\u001b[0m\u001b[0;34m\u001b[0m\u001b[0;34m\u001b[0m\u001b[0;34m\u001b[0m\u001b[0m\n\u001b[0;32m----> 8\u001b[0;31m     \u001b[0mS0\u001b[0m \u001b[0;34m=\u001b[0m \u001b[0mN\u001b[0m \u001b[0;34m-\u001b[0m \u001b[0mI0\u001b[0m \u001b[0;34m-\u001b[0m \u001b[0mR0\u001b[0m\u001b[0;34m\u001b[0m\u001b[0;34m\u001b[0m\u001b[0m\n\u001b[0m\u001b[1;32m      9\u001b[0m     \u001b[0;31m# Contact rate, beta, and mean recovery rate, gamma, (in 1/days).\u001b[0m\u001b[0;34m\u001b[0m\u001b[0;34m\u001b[0m\u001b[0;34m\u001b[0m\u001b[0m\n\u001b[1;32m     10\u001b[0m     \u001b[0mbeta\u001b[0m\u001b[0;34m,\u001b[0m \u001b[0mgamma\u001b[0m \u001b[0;34m=\u001b[0m \u001b[0mbeta\u001b[0m\u001b[0;34m,\u001b[0m \u001b[0mg\u001b[0m\u001b[0;34m\u001b[0m\u001b[0;34m\u001b[0m\u001b[0m\n",
      "\u001b[0;32mpandas/_libs/tslibs/c_timestamp.pyx\u001b[0m in \u001b[0;36mpandas._libs.tslibs.c_timestamp._Timestamp.__sub__\u001b[0;34m()\u001b[0m\n",
      "\u001b[0;31mTypeError\u001b[0m: descriptor '__sub__' requires a 'datetime.datetime' object but received a 'int'"
     ]
    }
   ],
   "source": [
    "#  Rudimentary fitting by tweaking beta parameter\n",
    "#  on 1st day had starting infected of 118 and in 17 days had 20000\n",
    "# fig, ax = plt.subplots()\n",
    "plot(327200000, pd.Timestamp('2020-03-24'),17,20000, 0.5)\n",
    "# ax.plot(327200000, pd.Timestamp('2020-03-24'),17,20000, 0.5)\n",
    "# df.plot(x ='date', y='positive', color='magenta',ax=ax)"
   ]
  },
  {
   "cell_type": "code",
   "execution_count": null,
   "metadata": {},
   "outputs": [],
   "source": [
    "#  At our current trajectory a standard SIR model predicts peak 135 million infected\n",
    "plot(327200000, 118, 100, ( 1.35* 10**8), 0.5)"
   ]
  },
  {
   "cell_type": "code",
   "execution_count": null,
   "metadata": {},
   "outputs": [],
   "source": [
    "#  With about 13.5 milion hospitalizations\n",
    "plot(327200000, 5000, 60,13500000, 0.5)"
   ]
  },
  {
   "cell_type": "code",
   "execution_count": null,
   "metadata": {},
   "outputs": [],
   "source": [
    "#  And about 4.5 milion deaths\n",
    "plot(327200000, 5000, 60,4500000, 0.5)"
   ]
  },
  {
   "cell_type": "code",
   "execution_count": null,
   "metadata": {},
   "outputs": [],
   "source": [
    "#  Reaching herd immunity at about day 53\n",
    "plot(327200000, 118, 53, ( 5* 10**8), 0.5)"
   ]
  },
  {
   "cell_type": "code",
   "execution_count": null,
   "metadata": {},
   "outputs": [],
   "source": [
    "# For comparison standard flu season CDC estimates 35.5 million illnesses, \n",
    "# more than 16.5 million medical visits, 4\n",
    "# 490,600 hospitalizations, and \n",
    "# 34,200 deaths\n",
    "\n",
    "\n",
    "#  The beta parameter (0.5) in the above is the contact parameter.  This is combination of the infectiousness of the\n",
    "#  disease and the contact that individuals have (quarantine affects this)\n",
    "#  If our efforts decrease the beta to 0.4 it increases the period of the disease by about 10 days\n",
    "#  And decreases max infected to about 108 million\n",
    "\n",
    "plot(327200000, 118, 68, ( 3* 10**8), 0.4)\n",
    "plot(327200000, 118, 100, ( 1.1* 10**8), 0.4)"
   ]
  },
  {
   "cell_type": "code",
   "execution_count": null,
   "metadata": {},
   "outputs": [],
   "source": [
    "# Hospitalizations go down to 11 million\n",
    "plot(327200000, 5000, 60,11000000, 0.4)"
   ]
  },
  {
   "cell_type": "code",
   "execution_count": null,
   "metadata": {},
   "outputs": [],
   "source": [
    "#  The main concern is not overwhelming the hospital system, which has about 1 million beds by most estimates.\n",
    "# This means we would have to stay around 7,700,000 total infected (7.7 million * 0.13 hospitalization rate = 1 million)\n",
    "# This would require a beta of 0.31\n",
    "plot(327200000, 5000, 200,7700000, 0.31)"
   ]
  },
  {
   "cell_type": "code",
   "execution_count": null,
   "metadata": {},
   "outputs": [],
   "source": [
    "#  Its questionable we can affect the beta this much but assuming social distancing does then that would push the\n",
    "#  herd immunity of the disease out to 78 days almost 2 2/3 months\n",
    "plot(327200000, 5000, 78,300000000, 0.31)"
   ]
  },
  {
   "cell_type": "code",
   "execution_count": null,
   "metadata": {},
   "outputs": [],
   "source": [
    "# Korea went from 578 cases to 5498 cases in 10 days, therefore their beta is estimated to be 0.35\n",
    "plot(51470000, 578,10,5498, 0.35)"
   ]
  },
  {
   "cell_type": "code",
   "execution_count": null,
   "metadata": {},
   "outputs": [],
   "source": [
    "# According to this S. Korea (even with their lower beta accounting for their government response) should have peaked\n",
    "# at 9 million infections.  But they peaked at 8,000 infections.\n",
    "plot(51470000, 578, 100, 9000000, 0.35, 2.2)\n"
   ]
  },
  {
   "cell_type": "code",
   "execution_count": null,
   "metadata": {},
   "outputs": [],
   "source": [
    "# In order to get peak at 8,000 infections beta has to be 0.1258\n",
    "# But this places the temporal location of the peak faaar into the future\n",
    "# This means a couple of things:\n",
    "# 1.  The initial infectious population needs to be modelling by \n",
    "#  splitting this into two phases according to changes in policy before they tamped down.\n",
    "# 2.  Gamma is not accurate.\n",
    "plot(51470000, 578, 5000, 8000, 0.1258, 2.2)"
   ]
  },
  {
   "cell_type": "code",
   "execution_count": null,
   "metadata": {},
   "outputs": [],
   "source": [
    "# Changing gamma and beta and R0 until we have a peak at 28 days at 8,000 infections as observed in the data\n",
    "from matplotlib.widgets import Slider\n",
    "\n",
    "plot(51470000, 578, 1000, 8000, 0.2, 2.2, 1./10)"
   ]
  },
  {
   "cell_type": "code",
   "execution_count": null,
   "metadata": {},
   "outputs": [],
   "source": []
  }
 ],
 "metadata": {
  "kernelspec": {
   "display_name": "Python 3",
   "language": "python",
   "name": "python3"
  },
  "language_info": {
   "codemirror_mode": {
    "name": "ipython",
    "version": 3
   },
   "file_extension": ".py",
   "mimetype": "text/x-python",
   "name": "python",
   "nbconvert_exporter": "python",
   "pygments_lexer": "ipython3",
   "version": "3.7.4"
  }
 },
 "nbformat": 4,
 "nbformat_minor": 2
}
